{
 "cells": [
  {
   "source": [
    "## <font size=5> <strong>importing all the essential libraries"
   ],
   "cell_type": "markdown",
   "metadata": {}
  },
  {
   "cell_type": "code",
   "execution_count": 13,
   "id": "5c95599a",
   "metadata": {},
   "outputs": [
    {
     "output_type": "stream",
     "name": "stdout",
     "text": [
      "['.ipynb_checkpoints', 'heart disease prediction UML model.png', 'heart disease prediction.png', 'heart.csv', 'model.py', 'Untitled.ipynb']\n"
     ]
    }
   ],
   "source": [
    "import numpy as np      # the numpy library is for numpy arrays\n",
    "import pandas as pd     # pandas is for preprossing the CSV files and converting into dataframes\n",
    "import matplotlib.pyplot as plt  # matplotlib is for visualising the data\n",
    "import seaborn as sns\n",
    "\n",
    "import os\n",
    "print(os.listdir())\n",
    "\n",
    "import warnings\n",
    "warnings.filterwarnings('ignore')"
   ]
  },
  {
   "source": [
    "## <font size=5> <strong> import the dataset heart.csv and analyse it."
   ],
   "cell_type": "markdown",
   "metadata": {}
  },
  {
   "source": [
    "## <font size=3> <strong> we use pandas to access our .csv file \n",
    "## that file will be automatically converted into a data frame"
   ],
   "cell_type": "markdown",
   "metadata": {}
  },
  {
   "cell_type": "code",
   "execution_count": 14,
   "metadata": {},
   "outputs": [],
   "source": [
    "dataset = pd.read_csv(\"heart.csv\") # importing the dataset heart.csv"
   ]
  },
  {
   "source": [
    "## <font size=2> <strong> lets see few of our tuples in our dataframe"
   ],
   "cell_type": "markdown",
   "metadata": {}
  },
  {
   "cell_type": "code",
   "execution_count": 15,
   "metadata": {},
   "outputs": [
    {
     "output_type": "execute_result",
     "data": {
      "text/plain": [
       "   age  sex  cp  trestbps  chol  fbs  restecg  thalach  exang  oldpeak  slope  \\\n",
       "0   63    1   3       145   233    1        0      150      0      2.3      0   \n",
       "1   37    1   2       130   250    0        1      187      0      3.5      0   \n",
       "2   41    0   1       130   204    0        0      172      0      1.4      2   \n",
       "3   56    1   1       120   236    0        1      178      0      0.8      2   \n",
       "4   57    0   0       120   354    0        1      163      1      0.6      2   \n",
       "\n",
       "   ca  thal  target  \n",
       "0   0     1       1  \n",
       "1   0     2       1  \n",
       "2   0     2       1  \n",
       "3   0     2       1  \n",
       "4   0     2       1  "
      ],
      "text/html": "<div>\n<style scoped>\n    .dataframe tbody tr th:only-of-type {\n        vertical-align: middle;\n    }\n\n    .dataframe tbody tr th {\n        vertical-align: top;\n    }\n\n    .dataframe thead th {\n        text-align: right;\n    }\n</style>\n<table border=\"1\" class=\"dataframe\">\n  <thead>\n    <tr style=\"text-align: right;\">\n      <th></th>\n      <th>age</th>\n      <th>sex</th>\n      <th>cp</th>\n      <th>trestbps</th>\n      <th>chol</th>\n      <th>fbs</th>\n      <th>restecg</th>\n      <th>thalach</th>\n      <th>exang</th>\n      <th>oldpeak</th>\n      <th>slope</th>\n      <th>ca</th>\n      <th>thal</th>\n      <th>target</th>\n    </tr>\n  </thead>\n  <tbody>\n    <tr>\n      <th>0</th>\n      <td>63</td>\n      <td>1</td>\n      <td>3</td>\n      <td>145</td>\n      <td>233</td>\n      <td>1</td>\n      <td>0</td>\n      <td>150</td>\n      <td>0</td>\n      <td>2.3</td>\n      <td>0</td>\n      <td>0</td>\n      <td>1</td>\n      <td>1</td>\n    </tr>\n    <tr>\n      <th>1</th>\n      <td>37</td>\n      <td>1</td>\n      <td>2</td>\n      <td>130</td>\n      <td>250</td>\n      <td>0</td>\n      <td>1</td>\n      <td>187</td>\n      <td>0</td>\n      <td>3.5</td>\n      <td>0</td>\n      <td>0</td>\n      <td>2</td>\n      <td>1</td>\n    </tr>\n    <tr>\n      <th>2</th>\n      <td>41</td>\n      <td>0</td>\n      <td>1</td>\n      <td>130</td>\n      <td>204</td>\n      <td>0</td>\n      <td>0</td>\n      <td>172</td>\n      <td>0</td>\n      <td>1.4</td>\n      <td>2</td>\n      <td>0</td>\n      <td>2</td>\n      <td>1</td>\n    </tr>\n    <tr>\n      <th>3</th>\n      <td>56</td>\n      <td>1</td>\n      <td>1</td>\n      <td>120</td>\n      <td>236</td>\n      <td>0</td>\n      <td>1</td>\n      <td>178</td>\n      <td>0</td>\n      <td>0.8</td>\n      <td>2</td>\n      <td>0</td>\n      <td>2</td>\n      <td>1</td>\n    </tr>\n    <tr>\n      <th>4</th>\n      <td>57</td>\n      <td>0</td>\n      <td>0</td>\n      <td>120</td>\n      <td>354</td>\n      <td>0</td>\n      <td>1</td>\n      <td>163</td>\n      <td>1</td>\n      <td>0.6</td>\n      <td>2</td>\n      <td>0</td>\n      <td>2</td>\n      <td>1</td>\n    </tr>\n  </tbody>\n</table>\n</div>"
     },
     "metadata": {},
     "execution_count": 15
    }
   ],
   "source": [
    "dataset.head(5)"
   ]
  },
  {
   "source": [
    "## <font size=3> our features in our dataset are\n",
    "## <font size=3> .age, \n",
    "## <font size=3>.sex, \n",
    "## <font size=3>.cp (chest pain), \n",
    "## <font size=3>.trestbps(resting blood pressure), \n",
    "## <font size=3>.chol (serum cholestoral in mg/dl), \n",
    "## <font size=3>.fbs(fasting blood sugar levels if greater then 120 mg/dl or not), \n",
    "## <font size=3>.restecg(resting electrocardiographic ECG results), \n",
    "## <font size=3>.thalach(maximum heart rate achieved), exang(exercise induced angina), \n",
    "## <font size=3>.oldpeak(ST depression induced by exercise relative to rest), \n",
    "## <font size=3>.slope(the slope of the peak exercise ST segment),\n",
    "## <font size=3> .cs(number of major vessels (0-3) colored by flourosopy),\n",
    "## <font size=3> .thal( Thalassemia (thal-uh-SEE-me-uh) is an inherited blood disorder that causes your body to have less hemoglobin than normal the values lies between3 = normal; 6 = fixed defect; 7 = reversable defect)"
   ],
   "cell_type": "markdown",
   "metadata": {}
  },
  {
   "cell_type": "code",
   "execution_count": 16,
   "metadata": {},
   "outputs": [],
   "source": [
    "from sklearn.model_selection import train_test_split"
   ]
  },
  {
   "source": [
    "## <font size=2> lets define our predectors that is 0 or 1 whether we hava a heart disease or nor"
   ],
   "cell_type": "markdown",
   "metadata": {}
  },
  {
   "cell_type": "code",
   "execution_count": 17,
   "metadata": {},
   "outputs": [],
   "source": [
    "predictors = dataset.drop(\"target\",axis=1)"
   ]
  },
  {
   "source": [
    "## <font size=2> lets define our target dataset"
   ],
   "cell_type": "markdown",
   "metadata": {}
  },
  {
   "cell_type": "code",
   "execution_count": 18,
   "metadata": {},
   "outputs": [],
   "source": [
    "target = dataset[\"target\"]"
   ]
  },
  {
   "source": [
    "## <font size=2> lets split our dataset in training and testing dataset the \"Train_test_split function randomly splits the dataset\""
   ],
   "cell_type": "markdown",
   "metadata": {}
  },
  {
   "cell_type": "code",
   "execution_count": 19,
   "metadata": {},
   "outputs": [],
   "source": [
    "X_train,X_test,Y_train,Y_test = train_test_split(predictors,target,test_size=0.20,random_state=0)"
   ]
  },
  {
   "source": [
    "## <font size=2> lets import our accurency score and our logestic regression model"
   ],
   "cell_type": "markdown",
   "metadata": {}
  },
  {
   "cell_type": "code",
   "execution_count": 20,
   "metadata": {},
   "outputs": [],
   "source": [
    "from sklearn.metrics import accuracy_score\n",
    "from sklearn.linear_model import LogisticRegression\n",
    "\n",
    "lr = LogisticRegression()"
   ]
  },
  {
   "source": [
    "## <font size=2> lets fit our training dataset into our model\n",
    "## <font size=2> a short description about logestc regression, its just linear regression which takes a samll values for the X and for the Y the problem will compleatly focuse on the binary classification where the values can take only two values 0 and 1 in our case the 0 means there is no heart disease and 1 means there is heart disease. we can use Sigmoid function or RELU function to fit our dataset between 0 to 1"
   ],
   "cell_type": "markdown",
   "metadata": {}
  },
  {
   "cell_type": "code",
   "execution_count": 21,
   "metadata": {},
   "outputs": [
    {
     "output_type": "execute_result",
     "data": {
      "text/plain": [
       "LogisticRegression()"
      ]
     },
     "metadata": {},
     "execution_count": 21
    }
   ],
   "source": [
    "lr.fit(X_train,Y_train)"
   ]
  },
  {
   "source": [
    "## <font size=2> lets predict with our testing data and caliculate the accurency."
   ],
   "cell_type": "markdown",
   "metadata": {}
  },
  {
   "cell_type": "code",
   "execution_count": 22,
   "metadata": {},
   "outputs": [
    {
     "output_type": "stream",
     "name": "stdout",
     "text": [
      "The accuracy score achieved using Logistic Regression is: 85.25 %\n"
     ]
    }
   ],
   "source": [
    "Y_pred_lr = lr.predict(X_test)\n",
    "\n",
    "score_lr = round(accuracy_score(Y_pred_lr,Y_test)*100,2)\n",
    "\n",
    "print(\"The accuracy score achieved using Logistic Regression is: \"+str(score_lr)+\" %\")"
   ]
  },
  {
   "source": [
    "## <font size=2> now our model has trained for our dataset now we can predect with our own data"
   ],
   "cell_type": "markdown",
   "metadata": {}
  },
  {
   "cell_type": "code",
   "execution_count": 23,
   "metadata": {},
   "outputs": [
    {
     "output_type": "stream",
     "name": "stdout",
     "text": [
      "lets diagonos the disease\nenter the values of :\nenter your age:\n"
     ]
    },
    {
     "output_type": "error",
     "ename": "ValueError",
     "evalue": "invalid literal for int() with base 10: ''",
     "traceback": [
      "\u001b[1;31m---------------------------------------------------------------------------\u001b[0m",
      "\u001b[1;31mValueError\u001b[0m                                Traceback (most recent call last)",
      "\u001b[1;32m<ipython-input-23-991809d3bbb7>\u001b[0m in \u001b[0;36m<module>\u001b[1;34m\u001b[0m\n\u001b[0;32m      8\u001b[0m     \u001b[1;32mif\u001b[0m\u001b[1;33m(\u001b[0m\u001b[0mi\u001b[0m\u001b[1;33m==\u001b[0m\u001b[1;34m'age'\u001b[0m\u001b[1;33m)\u001b[0m\u001b[1;33m:\u001b[0m\u001b[1;33m\u001b[0m\u001b[1;33m\u001b[0m\u001b[0m\n\u001b[0;32m      9\u001b[0m         \u001b[0mprint\u001b[0m\u001b[1;33m(\u001b[0m\u001b[1;34m'enter your '\u001b[0m\u001b[1;33m+\u001b[0m\u001b[0mi\u001b[0m\u001b[1;33m+\u001b[0m\u001b[1;34m':'\u001b[0m\u001b[1;33m)\u001b[0m\u001b[1;33m\u001b[0m\u001b[1;33m\u001b[0m\u001b[0m\n\u001b[1;32m---> 10\u001b[1;33m         \u001b[0mval\u001b[0m\u001b[1;33m=\u001b[0m\u001b[0mint\u001b[0m\u001b[1;33m(\u001b[0m\u001b[0minput\u001b[0m\u001b[1;33m(\u001b[0m\u001b[1;33m)\u001b[0m\u001b[1;33m)\u001b[0m\u001b[1;33m\u001b[0m\u001b[1;33m\u001b[0m\u001b[0m\n\u001b[0m\u001b[0;32m     11\u001b[0m         \u001b[0mtemp\u001b[0m\u001b[1;33m[\u001b[0m\u001b[0mi\u001b[0m\u001b[1;33m]\u001b[0m\u001b[1;33m=\u001b[0m\u001b[1;33m[\u001b[0m\u001b[0mval\u001b[0m\u001b[1;33m]\u001b[0m\u001b[1;33m\u001b[0m\u001b[1;33m\u001b[0m\u001b[0m\n\u001b[0;32m     12\u001b[0m         \u001b[1;32mcontinue\u001b[0m\u001b[1;33m\u001b[0m\u001b[1;33m\u001b[0m\u001b[0m\n",
      "\u001b[1;31mValueError\u001b[0m: invalid literal for int() with base 10: ''"
     ]
    }
   ],
   "source": [
    "print(\"lets diagonos the disease\")\n",
    "print(\"enter the values of :\")\n",
    "temp={'age':[70],'sex':[1],'cp':[0],'trestbps':[145],'chol':[174],'fbs':[0],'restecg':[1],'thalach':[125],'exang':[1],'oldpeak':[2.6],'slope':[0],'ca':[0],'thal':[3]}\n",
    "#print(temp)\n",
    "error=False\n",
    "for i in ['age','sex','cp','trestbps','chol','fbs','restecg','thalach','exang','oldpeak','slope','ca','thal'] :\n",
    "    \n",
    "    if(i=='age'):\n",
    "        print('enter your '+i+':')\n",
    "        val=int(input())\n",
    "        temp[i]=[val]\n",
    "        continue\n",
    "    if(i=='sex'):\n",
    "        print(\"enter your sex 'male' or 'female' without caps\")\n",
    "        val=input()\n",
    "        if(val=='male'):\n",
    "            temp[i]=[1]\n",
    "            continue\n",
    "        if(val=='female'):\n",
    "            temp[i]=[0]\n",
    "            continue\n",
    "        error=True\n",
    "        break\n",
    "    if(i=='cp'):\n",
    "        print(\"chest pain types choose the values between (1,2,3,4) 1: typical angina, 2: atypical angina, 3: non-anginal pain, 4: asymptomatic please enter the value corresponding\")\n",
    "        val=int(input())\n",
    "        if(val<=4 or val>=1):\n",
    "            temp[i]=[val]\n",
    "            continue\n",
    "        error=True\n",
    "        break\n",
    "    if(i=='trestbps'):\n",
    "        print(\"enter the resting blood pressure\")\n",
    "        val=int(input())\n",
    "        temp[i]=[val]\n",
    "        continue\n",
    "    if(i=='chol'):\n",
    "        print(\"enter the cholostrol levels\")\n",
    "        val=int(input())\n",
    "        temp[i]=[val]\n",
    "        continue\n",
    "    if(i=='fbs'):\n",
    "        print(\"enter the fasting suger levels if greater then 120 mg/dl [1 or 0]\")\n",
    "        val=int(input())\n",
    "        temp[i]=[val]\n",
    "        continue\n",
    "    if(i=='restecg'):\n",
    "        print(\"enter the electrocardiographic results (values 0,1,2) ECG\")\n",
    "        val=int(input())\n",
    "        if(val<0 or val>2):\n",
    "            error=True\n",
    "            print(\"wrong values entered please enter the values between 0 to 2 inclusively\")\n",
    "            break\n",
    "        temp[i]=[val]\n",
    "        continue\n",
    "    if(i=='thalach'):\n",
    "        print(\"enter the maximum heart rate achieved\")\n",
    "        val=int(input())\n",
    "        temp[i]=[val]  \n",
    "        continue     \n",
    "    if(i=='exang'):\n",
    "        print(\"enter the exercise induced angina 0 or 1\")\n",
    "        val=int(input())\n",
    "        temp[i]=[val]\n",
    "        continue\n",
    "    if(i=='oldpeak'):\n",
    "        print(\"enter the  ST depression induced by exercise relative to rest\")    \n",
    "        val=float(input())\n",
    "        temp[i]=[val]\n",
    "        continue\n",
    "    if(i=='slope'):\n",
    "        print(\"enter the the slope of the peak exercise ST segment\")\n",
    "        val=int(input())\n",
    "        temp[i]=[val]\n",
    "        continue\n",
    "    if(i=='ca'):\n",
    "        print(\"enter the number of major vessels (0-3) colored by flourosopy\")\n",
    "        val=int(input())\n",
    "        temp[i]=[val]\n",
    "    if(i=='thal'):\n",
    "        print(\"enter the values 3 if normal, 6 if fixed defect, 7 if reversable defect\")    \n",
    "        val=int(input())\n",
    "        temp[i]=[val]\n",
    "        continue    \n",
    "    \n",
    "print()\n",
    "print()\n",
    "print()    \n",
    "print(temp)\n",
    "print()\n",
    "print()\n",
    "ans = pd.DataFrame(data=temp)\n",
    "clasify=lr.predict(ans)\n",
    "if(clasify==1):\n",
    "    print(\"YOUR HAVING HEART DISEASE\")\n",
    "else:\n",
    "    print(\"YOUR HEART IS NORMAL\")\n",
    "\n",
    "print(\"THANKS FOR USEING OUR SERVICES.\")"
   ]
  },
  {
   "cell_type": "code",
   "execution_count": null,
   "metadata": {},
   "outputs": [],
   "source": []
  }
 ],
 "metadata": {
  "kernelspec": {
   "name": "python395jvsc74a57bd0d26019c7081e06bec73608eda2ef2cfd08165c03b8cba7917c9edfaee6215e79",
   "display_name": "Python 3.9.5 64-bit"
  },
  "language_info": {
   "codemirror_mode": {
    "name": "ipython",
    "version": 3
   },
   "file_extension": ".py",
   "mimetype": "text/x-python",
   "name": "python",
   "nbconvert_exporter": "python",
   "pygments_lexer": "ipython3",
   "version": "3.9.5"
  }
 },
 "nbformat": 4,
 "nbformat_minor": 5
}